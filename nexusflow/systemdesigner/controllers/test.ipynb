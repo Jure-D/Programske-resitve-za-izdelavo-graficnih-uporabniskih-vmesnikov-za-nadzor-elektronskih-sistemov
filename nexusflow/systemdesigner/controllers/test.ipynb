{
 "cells": [
  {
   "cell_type": "code",
   "execution_count": 1,
   "metadata": {},
   "outputs": [
    {
     "name": "stdout",
     "output_type": "stream",
     "text": [
      "Device ID: Opal Kelly XEM7310\n"
     ]
    }
   ],
   "source": [
    "import fpga\n",
    "fc = fpga.FPGAController(r\".\\fpga\\bitfiles\\xem7310_flc5.0_200_160MHz_11_05_2022.bit\")\n",
    "m = fc.add_module(\"C:/Users/aspus/Desktop/ADD_adapter_test.xlsm\")"
   ]
  },
  {
   "cell_type": "code",
   "execution_count": 3,
   "metadata": {},
   "outputs": [],
   "source": [
    "m.adds[1].toggle_digital(3)  # ADD3_3"
   ]
  },
  {
   "cell_type": "code",
   "execution_count": null,
   "metadata": {},
   "outputs": [],
   "source": []
  }
 ],
 "metadata": {
  "kernelspec": {
   "display_name": "venv",
   "language": "python",
   "name": "python3"
  },
  "language_info": {
   "codemirror_mode": {
    "name": "ipython",
    "version": 3
   },
   "file_extension": ".py",
   "mimetype": "text/x-python",
   "name": "python",
   "nbconvert_exporter": "python",
   "pygments_lexer": "ipython3",
   "version": "3.11.2"
  },
  "orig_nbformat": 4
 },
 "nbformat": 4,
 "nbformat_minor": 2
}
